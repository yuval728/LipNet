{
 "cells": [
  {
   "cell_type": "code",
   "execution_count": 1,
   "metadata": {},
   "outputs": [],
   "source": [
    "import os\n",
    "import cv2\n",
    "import numpy as np\n",
    "import matplotlib.pyplot as plt\n",
    "import imageio\n",
    "\n",
    "import torch\n",
    "import torch.nn as nn\n",
    "import torch.optim as optim\n",
    "from torch.utils.data import Dataset, DataLoader\n",
    "from torchvision import transforms\n",
    "from tqdm import tqdm"
   ]
  },
  {
   "cell_type": "code",
   "execution_count": 2,
   "metadata": {},
   "outputs": [],
   "source": [
    "from src.constants import vocab\n",
    "from src.dataset import LipDataset, collate_fn\n",
    "from src.utils import char_to_num, num_to_char, get_word2idx_idx2word"
   ]
  },
  {
   "cell_type": "code",
   "execution_count": 3,
   "metadata": {},
   "outputs": [],
   "source": [
    "# from src import download_data\n",
    "\n",
    "# url = 'https://drive.google.com/uc?id=1YlvpDLix3S-U8fd-gqRwPcWXAXm8JwjL'\n",
    "# download_data.download_data(url)"
   ]
  },
  {
   "cell_type": "code",
   "execution_count": 43,
   "metadata": {},
   "outputs": [],
   "source": [
    "word2idx, idx2word = get_word2idx_idx2word(vocab)\n",
    "\n",
    "data_transform = transforms.Compose(\n",
    "    [\n",
    "        transforms.ToPILImage(),                      # Convert the OpenCV image (NumPy array) to a PIL image\n",
    "        # transforms.Grayscale(num_output_channels=3),  # Convert to grayscale\n",
    "        transforms.ToTensor(),                        # Convert the PIL image to a PyTorch tensor (values between 0 and 1)\n",
    "        # transforms.Normalize(mean=[0.5], std=[0.5])\n",
    "        transforms.Normalize(mean=[0.485, 0.456, 0.406], std=[0.229, 0.224, 0.225])\n",
    "    ]\n",
    ")\n",
    "\n",
    "data_dir = \"data/s1\"\n",
    "label_dir = \"data/alignments/s1\"\n",
    "\n",
    "dataset = LipDataset(data_dir, label_dir, transform=data_transform, vocab=vocab, word2idx=word2idx, idx2word=idx2word)"
   ]
  },
  {
   "cell_type": "code",
   "execution_count": 44,
   "metadata": {},
   "outputs": [
    {
     "name": "stdout",
     "output_type": "stream",
     "text": [
      "torch.Size([75, 3, 46, 140]) torch.Size([21])\n"
     ]
    }
   ],
   "source": [
    "frames, label = dataset[0]\n",
    "print(frames.shape, label.shape)"
   ]
  },
  {
   "cell_type": "code",
   "execution_count": 45,
   "metadata": {},
   "outputs": [
    {
     "name": "stderr",
     "output_type": "stream",
     "text": [
      "Clipping input data to the valid range for imshow with RGB data ([0..1] for floats or [0..255] for integers). Got range [-2.6113086..2.0715413].\n"
     ]
    },
    {
     "data": {
      "text/plain": [
       "<matplotlib.image.AxesImage at 0x29a08656ad0>"
      ]
     },
     "execution_count": 45,
     "metadata": {},
     "output_type": "execute_result"
    },
    {
     "data": {
      "image/png": "[encoded data removed]",
      "text/plain": [
       "<Figure size 640x480 with 1 Axes>"
      ]
     },
     "metadata": {},
     "output_type": "display_data"
    }
   ],
   "source": [
    "plt.imshow(frames[50].permute(1, 2, 0), cmap='gray')"
   ]
  },
  {
   "cell_type": "code",
   "execution_count": 46,
   "metadata": {},
   "outputs": [
    {
     "name": "stdout",
     "output_type": "stream",
     "text": [
      "bin blue at f two now\n"
     ]
    }
   ],
   "source": [
    "print(''.join(num_to_char(label.tolist(), idx2word)))"
   ]
  },
  {
   "cell_type": "code",
   "execution_count": 47,
   "metadata": {},
   "outputs": [],
   "source": [
    "# def collate_fn(batch):\n",
    "#     frames, labels = zip(*batch)\n",
    "\n",
    "#     # Pad the frames to the same length\n",
    "#     max_len = max([f.shape[0] for f in frames])\n",
    "#     frames = [torch.nn.functional.pad(input=f, pad=(0, 0, 0, 0, 0, 0, 0, max_len - f.shape[0]), mode='constant', value=0) for f in frames] \n",
    "    \n",
    "#     # Pad the labels to the same length\n",
    "#     max_len = max([l.shape[0] for l in labels])  # noqa: E741\n",
    "#     labels = [torch.nn.functional.pad(input=l, pad=(0, max_len - l.shape[0]), mode='constant', value=word2idx['<PAD>']) for l in labels]  # noqa: E741\n",
    "    \n",
    "#     return torch.stack(frames), torch.stack(labels)\n",
    "\n",
    "dataloader = DataLoader(dataset, batch_size=32, shuffle=True, collate_fn=lambda x: collate_fn(x, word2idx['<PAD>']), pin_memory=True)"
   ]
  },
  {
   "cell_type": "code",
   "execution_count": 48,
   "metadata": {},
   "outputs": [
    {
     "name": "stdout",
     "output_type": "stream",
     "text": [
      "torch.Size([32, 75, 3, 46, 140]) torch.Size([32, 28])\n"
     ]
    }
   ],
   "source": [
    "frames, labels = next(iter(dataloader))\n",
    "print(frames.shape, labels.shape)"
   ]
  },
  {
   "cell_type": "code",
   "execution_count": 49,
   "metadata": {},
   "outputs": [],
   "source": [
    "video = frames[0].permute(0, 2, 3, 1)  # Resulting shape: [75, 46, 140, 3]\n",
    "\n",
    "# Step 2: Clip values to [0, 1] and scale to [0, 255] for visualization\n",
    "video = torch.clamp(video, 0, 1) * 255\n",
    "video = video.type(torch.uint8)  # Convert to uint8 for image saving\n",
    "\n",
    "# Convert to numpy for imageio\n",
    "video_np = video.numpy()\n",
    "\n",
    "# Step 3: Save as GIF\n",
    "imageio.mimsave('test.gif', video_np, duration=0.1)"
   ]
  },
  {
   "cell_type": "code",
   "execution_count": null,
   "metadata": {},
   "outputs": [],
   "source": []
  },
  {
   "cell_type": "code",
   "execution_count": null,
   "metadata": {},
   "outputs": [],
   "source": []
  }
 ],
 "metadata": {
  "kernelspec": {
   "display_name": "env",
   "language": "python",
   "name": "python3"
  },
  "language_info": {
   "codemirror_mode": {
    "name": "ipython",
    "version": 3
   },
   "file_extension": ".py",
   "mimetype": "text/x-python",
   "name": "python",
   "nbconvert_exporter": "python",
   "pygments_lexer": "ipython3",
   "version": "3.11.9"
  }
 },
 "nbformat": 4,
 "nbformat_minor": 2
}
