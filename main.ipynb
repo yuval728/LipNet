{
 "cells": [
  {
   "cell_type": "code",
   "execution_count": 1,
   "metadata": {},
   "outputs": [],
   "source": [
    "import os\n",
    "import cv2\n",
    "import numpy as np\n",
    "import matplotlib.pyplot as plt\n",
    "import imageio\n",
    "\n",
    "import torch\n",
    "import torch.nn as nn\n",
    "import torch.optim as optim\n",
    "from torch.utils.data import Dataset, DataLoader\n",
    "from torchvision import transforms\n",
    "from tqdm import tqdm"
   ]
  },
  {
   "cell_type": "code",
   "execution_count": 2,
   "metadata": {},
   "outputs": [],
   "source": [
    "from src.constants import vocab\n",
    "from src.dataset import LipDataset\n",
    "from src.utils import char_to_num, num_to_char, get_word2idx_idx2word"
   ]
  },
  {
   "cell_type": "code",
   "execution_count": 2,
   "metadata": {},
   "outputs": [],
   "source": [
    "# from src import download_data\n",
    "\n",
    "# url = 'https://drive.google.com/uc?id=1YlvpDLix3S-U8fd-gqRwPcWXAXm8JwjL'\n",
    "# download_data.download_data(url)"
   ]
  },
  {
   "cell_type": "code",
   "execution_count": 5,
   "metadata": {},
   "outputs": [],
   "source": [
    "# vocab = [x for x in \"abcdefghijklmnopqrstuvwxyz'?!123456789 \"]"
   ]
  },
  {
   "cell_type": "code",
   "execution_count": 10,
   "metadata": {},
   "outputs": [],
   "source": [
    "# word2idx = {word: idx for idx, word in enumerate(vocab)}\n",
    "\n",
    "# # word2idx['<PAD>'] = len(word2idx)\n",
    "# # word2idx['<START>'] = len(word2idx)\n",
    "# # word2idx['<END>'] = len(word2idx)\n",
    "# # word2idx['<UNK>'] = len(word2idx)\n",
    "\n",
    "# idx2word = {idx: word for word, idx in word2idx.items()}\n",
    "# vocab_size = len(word2idx)\n"
   ]
  },
  {
   "cell_type": "code",
   "execution_count": 101,
   "metadata": {},
   "outputs": [
    {
     "ename": "ImportError",
     "evalue": "cannot import name 'get_word2idx_idx2word' from 'src.utils' (d:\\Vegeta\\Projects\\DL projects\\LipNet\\src\\utils.py)",
     "output_type": "error",
     "traceback": [
      "\u001b[1;31m---------------------------------------------------------------------------\u001b[0m",
      "\u001b[1;31mImportError\u001b[0m                               Traceback (most recent call last)",
      "Cell \u001b[1;32mIn[101], line 2\u001b[0m\n\u001b[0;32m      1\u001b[0m \u001b[38;5;28;01mfrom\u001b[39;00m \u001b[38;5;21;01msrc\u001b[39;00m\u001b[38;5;21;01m.\u001b[39;00m\u001b[38;5;21;01mdataset\u001b[39;00m \u001b[38;5;28;01mimport\u001b[39;00m LipDataset\n\u001b[1;32m----> 2\u001b[0m \u001b[38;5;28;01mfrom\u001b[39;00m \u001b[38;5;21;01msrc\u001b[39;00m\u001b[38;5;21;01m.\u001b[39;00m\u001b[38;5;21;01mutils\u001b[39;00m \u001b[38;5;28;01mimport\u001b[39;00m char_to_num, num_to_char, get_word2idx_idx2word\n",
      "\u001b[1;31mImportError\u001b[0m: cannot import name 'get_word2idx_idx2word' from 'src.utils' (d:\\Vegeta\\Projects\\DL projects\\LipNet\\src\\utils.py)"
     ]
    }
   ],
   "source": [
    "# class LipDataset(Dataset):\n",
    "#     def __init__(self, data_dir: str, label_dir: str, vocab: list, word2idx: dict, idx2word: dict, transform=None):\n",
    "#         self.data_dir = data_dir\n",
    "#         self.label_dir = label_dir\n",
    "#         self.transform = transform\n",
    "#         self.data = os.listdir(data_dir)\n",
    "#         self.label = os.listdir(label_dir)\n",
    "#         self.vocab = vocab\n",
    "#         self.word2idx = word2idx\n",
    "#         self.idx2word = idx2word\n",
    "\n",
    "#     def __len__(self):\n",
    "#         return len(self.data)\n",
    "\n",
    "#     def __getitem__(self, idx):\n",
    "#         data_path = os.path.join(self.data_dir, self.data[idx])\n",
    "#         label_path = os.path.join(self.label_dir, self.label[idx])\n",
    "\n",
    "#         assert os.path.exists(data_path), f\"Data path {data_path} does not exist\"\n",
    "#         assert os.path.exists(label_path), f\"Label path {label_path} does not exist\"\n",
    "\n",
    "#         assert (\n",
    "#             data_path.split(\"/\")[-1].split(\".\")[0]\n",
    "#             == label_path.split(\"/\")[-1].split(\".\")[0]\n",
    "#         ), \"Data and label file names do not match\"\n",
    "\n",
    "#         frames = self.load_video(data_path)\n",
    "\n",
    "#         label = self.load_alignment(label_path)\n",
    "\n",
    "#         return frames, label\n",
    "\n",
    "#     def load_video(self, path: str) -> torch.Tensor:\n",
    "#         cap = cv2.VideoCapture(path)\n",
    "#         num_frames = int(cap.get(cv2.CAP_PROP_FRAME_COUNT))\n",
    "\n",
    "#         frames = []\n",
    "#         for i in range(num_frames):\n",
    "#             ret, frame = cap.read()\n",
    "            \n",
    "#             # frame = cv2.cvtColor(frame, cv2.COLOR_BGR2GRAY)\n",
    "            \n",
    "#             frame = frame[\n",
    "#                 190:236, 80:220\n",
    "#             ]  # TODO: Make it dynamic using dlib  # Take only the lip part of the frame\n",
    "            \n",
    "#             if self.transform:\n",
    "#                 frame = self.transform(frame)\n",
    "\n",
    "#             frames.append(frame)\n",
    "\n",
    "#         cap.release()\n",
    "        \n",
    "#         frames = torch.stack(frames)\n",
    "        \n",
    "#         std = torch.std(frames)\n",
    "#         mean = torch.mean(frames)\n",
    "        \n",
    "#         frames = (frames - mean) / std # Normalize the frames (z-score normalization\n",
    "\n",
    "#         return frames # (T, H, W, C)\n",
    "    \n",
    "    \n",
    "#     def load_alignment(self, path: str) -> torch.Tensor:\n",
    "#         with open(path, \"r\") as f:\n",
    "#             lines = f.readlines() \n",
    "#         tokens = []\n",
    "#         for line in lines:\n",
    "#             line = line.split()\n",
    "#             if line[2] != \"sil\":\n",
    "#                 # tokens = [*tokens, ' ',line[2]]\n",
    "#                 tokens.append(' ')\n",
    "#                 tokens.extend(list(line[2]))  \n",
    "\n",
    "#         token_nums = char_to_num(tokens, self.word2idx)\n",
    "\n",
    "        \n",
    "#         return torch.tensor(token_nums[1:], dtype=torch.long)"
   ]
  },
  {
   "cell_type": "code",
   "execution_count": 3,
   "metadata": {},
   "outputs": [],
   "source": [
    "word2idx, idx2word = get_word2idx_idx2word(vocab)\n",
    "\n",
    "data_transform = transforms.Compose(\n",
    "    [\n",
    "        transforms.ToPILImage(),                      # Convert the OpenCV image (NumPy array) to a PIL image\n",
    "        transforms.Grayscale(num_output_channels=1),  # Convert to grayscale# Resize the frame to (46, 140) as in your slicing operation\n",
    "        transforms.ToTensor(),                        # Convert the PIL image to a PyTorch tensor (values between 0 and 1)\n",
    "        # transforms.Normalize(mean=[0.5], std=[0.5]) \n",
    "    ]\n",
    ")\n",
    "\n",
    "data_dir = \"data/s1\"\n",
    "label_dir = \"data/alignments/s1\"\n",
    "\n",
    "dataset = LipDataset(data_dir, label_dir, transform=data_transform, vocab=vocab, word2idx=word2idx, idx2word=idx2word)"
   ]
  },
  {
   "cell_type": "code",
   "execution_count": 4,
   "metadata": {},
   "outputs": [
    {
     "name": "stdout",
     "output_type": "stream",
     "text": [
      "torch.Size([75, 1, 46, 140]) torch.Size([21])\n"
     ]
    }
   ],
   "source": [
    "frames, label = dataset[0]\n",
    "print(frames.shape, label.shape)"
   ]
  },
  {
   "cell_type": "code",
   "execution_count": 5,
   "metadata": {},
   "outputs": [
    {
     "data": {
      "text/plain": [
       "tensor([[[1.4633, 1.4633, 1.4258,  ..., 0.3741, 0.3741, 0.3741],\n",
       "         [1.4633, 1.4633, 1.4258,  ..., 0.3741, 0.3741, 0.3741],\n",
       "         [1.4258, 1.4258, 1.4633,  ..., 0.2990, 0.2990, 0.2990],\n",
       "         ...,\n",
       "         [1.0502, 1.0502, 1.0126,  ..., 0.1112, 0.1112, 0.0736],\n",
       "         [1.0502, 1.0502, 1.0126,  ..., 0.1112, 0.0736, 0.0736],\n",
       "         [1.0502, 1.0502, 1.0126,  ..., 0.0736, 0.0736, 0.0361]]])"
      ]
     },
     "execution_count": 5,
     "metadata": {},
     "output_type": "execute_result"
    }
   ],
   "source": [
    "frames[0]"
   ]
  },
  {
   "cell_type": "code",
   "execution_count": 6,
   "metadata": {},
   "outputs": [
    {
     "data": {
      "text/plain": [
       "<matplotlib.image.AxesImage at 0x22a50bac210>"
      ]
     },
     "execution_count": 6,
     "metadata": {},
     "output_type": "execute_result"
    },
    {
     "data": {
      "image/png": "[encoded data removed]",
      "text/plain": [
       "<Figure size 640x480 with 1 Axes>"
      ]
     },
     "metadata": {},
     "output_type": "display_data"
    }
   ],
   "source": [
    "plt.imshow(frames[50].permute(1, 2, 0))"
   ]
  },
  {
   "cell_type": "code",
   "execution_count": 7,
   "metadata": {},
   "outputs": [
    {
     "name": "stdout",
     "output_type": "stream",
     "text": [
      "['b', 'i', 'n', ' ', 'b', 'l', 'u', 'e', ' ', 'a', 't', ' ', 'f', ' ', 't', 'w', 'o', ' ', 'n', 'o', 'w']\n"
     ]
    }
   ],
   "source": [
    "print(num_to_char(label.tolist(), idx2word))"
   ]
  },
  {
   "cell_type": "code",
   "execution_count": null,
   "metadata": {},
   "outputs": [],
   "source": []
  },
  {
   "cell_type": "code",
   "execution_count": null,
   "metadata": {},
   "outputs": [],
   "source": []
  }
 ],
 "metadata": {
  "kernelspec": {
   "display_name": "env",
   "language": "python",
   "name": "python3"
  },
  "language_info": {
   "codemirror_mode": {
    "name": "ipython",
    "version": 3
   },
   "file_extension": ".py",
   "mimetype": "text/x-python",
   "name": "python",
   "nbconvert_exporter": "python",
   "pygments_lexer": "ipython3",
   "version": "3.11.9"
  }
 },
 "nbformat": 4,
 "nbformat_minor": 2
}
